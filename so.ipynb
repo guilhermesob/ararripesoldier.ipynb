import numpy as np
from scipy.io import wavfile

def calculate_similarity(audio_path1, audio_path2):
    # Carrega os arquivos de áudio
    rate1, audio1 = wavfile.read(audio_path1)
    rate2, audio2 = wavfile.read(audio_path2)

    # Verifica se as taxas de amostragem são iguais
    if rate1 != rate2:
        return "As taxas de amostragem são diferentes, não e o mesmo passaro."

    # Normaliza os áudios para o mesmo comprimento
    min_length = min(len(audio1), len(audio2))
    audio1 = audio1[:min_length]
    audio2 = audio2[:min_length]

    # Calcula a diferença entre os áudios
    difference = np.sum(np.abs(audio1 - audio2))
    
    # Define um limite de diferença
    similarity_threshold = 1000

    if difference < similarity_threshold:
        return "Os áudios são considerados similares,pode, ser o mesmopassaro."
    else:
        return "Os áudios são diferentes, não sao o mesmo passaro."

# Caminhos dos arquivos de áudio
#audio_path1 = "aud1.mpeg"
#audio_path2 = "aud2.mpeg"
audio_path1 = "c:\\Users\\Virgínia Sobral\\Downloads\\aud1.mpeg"
audio_path2 = "c:\\Users\\Virgínia Sobral\\Downloads\\aud2.mpeg"

# Calcula e imprime a similaridade
result = calculate_similarity(audio_path1, audio_path2)
print(result)
